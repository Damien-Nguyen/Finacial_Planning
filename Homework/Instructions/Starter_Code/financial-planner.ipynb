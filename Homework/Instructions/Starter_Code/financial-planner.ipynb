{
 "cells": [
  {
   "cell_type": "markdown",
   "metadata": {},
   "source": [
    "# Unit 5 - Financial Planning"
   ]
  },
  {
   "cell_type": "code",
   "execution_count": 2,
   "metadata": {},
   "outputs": [],
   "source": [
    "# Initial imports\n",
    "import os\n",
    "import requests\n",
    "import pandas as pd\n",
    "from dotenv import load_dotenv\n",
    "import alpaca_trade_api as tradeapi\n",
    "from MCForecastTools import MCSimulation\n",
    "\n",
    "%matplotlib inline"
   ]
  },
  {
   "cell_type": "code",
   "execution_count": 3,
   "metadata": {},
   "outputs": [
    {
     "data": {
      "text/plain": [
       "True"
      ]
     },
     "execution_count": 3,
     "metadata": {},
     "output_type": "execute_result"
    }
   ],
   "source": [
    "# Load .env enviroment variables\n",
    "load_dotenv()"
   ]
  },
  {
   "cell_type": "markdown",
   "metadata": {},
   "source": [
    "## Part 1 - Personal Finance Planner"
   ]
  },
  {
   "cell_type": "markdown",
   "metadata": {},
   "source": [
    "### Collect Crypto Prices Using the `requests` Library"
   ]
  },
  {
   "cell_type": "code",
   "execution_count": 4,
   "metadata": {},
   "outputs": [],
   "source": [
    "# Set current amount of crypto assets\n",
    "my_btc = 1.2\n",
    "my_eth = 5.3"
   ]
  },
  {
   "cell_type": "code",
   "execution_count": 5,
   "metadata": {},
   "outputs": [],
   "source": [
    "# Crypto API URLs\n",
    "btc_url = \"https://api.alternative.me/v2/ticker/Bitcoin/?convert=CAD\"\n",
    "eth_url = \"https://api.alternative.me/v2/ticker/Ethereum/?convert=CAD\""
   ]
  },
  {
   "cell_type": "markdown",
   "metadata": {},
   "source": [
    "### Collect Investments Data Using Alpaca: `SPY` (stocks) and `AGG` (bonds)"
   ]
  },
  {
   "cell_type": "code",
   "execution_count": 6,
   "metadata": {},
   "outputs": [
    {
     "name": "stdout",
     "output_type": "stream",
     "text": [
      "The current value of your 1.2 BTC is $31086.56\n",
      "the current value of your 5.3 ETH is $2201.39\n"
     ]
    }
   ],
   "source": [
    "# Fetch current BTC price\n",
    "btc_fetch = requests.get(btc_url).json()\n",
    "btc_fetch\n",
    "# Fetch current ETH price\n",
    "eth_fetch = requests.get(eth_url).json()\n",
    "eth_fetch\n",
    "# Compute current value of my crpto\n",
    "my_btc_value = btc_fetch['data']['1']['quotes']['CAD']['price']\n",
    "my_eth_value = eth_fetch['data']['1027']['quotes']['CAD']['price']\n",
    "# Print current crypto wallet balance\n",
    "print(f\"The current value of your {my_btc} BTC is ${my_btc_value:0.2f}\")\n",
    "print(f\"the current value of your {my_eth} ETH is ${my_eth_value:0.2f}\")"
   ]
  },
  {
   "cell_type": "code",
   "execution_count": 7,
   "metadata": {},
   "outputs": [],
   "source": [
    "# Set current amount of shares\n",
    "my_agg = 200\n",
    "my_spy = 50"
   ]
  },
  {
   "cell_type": "code",
   "execution_count": 8,
   "metadata": {},
   "outputs": [],
   "source": [
    "# Set Alpaca API key and secret\n",
    "alpaca_api_key = os.getenv(\"ALPACA_API_KEY\")\n",
    "alpaca_secret_key = os.getenv(\"ALPACA_SECRET_KEY\")\n",
    "\n",
    "# Create the Alpaca API object\n",
    "alpaca = tradeapi.REST(\n",
    "    alpaca_api_key,\n",
    "    alpaca_secret_key,\n",
    "    api_version=\"v2\"\n",
    ")"
   ]
  },
  {
   "cell_type": "code",
   "execution_count": 9,
   "metadata": {},
   "outputs": [
    {
     "data": {
      "text/html": [
       "<div>\n",
       "<style scoped>\n",
       "    .dataframe tbody tr th:only-of-type {\n",
       "        vertical-align: middle;\n",
       "    }\n",
       "\n",
       "    .dataframe tbody tr th {\n",
       "        vertical-align: top;\n",
       "    }\n",
       "\n",
       "    .dataframe thead th {\n",
       "        text-align: right;\n",
       "    }\n",
       "</style>\n",
       "<table border=\"1\" class=\"dataframe\">\n",
       "  <thead>\n",
       "    <tr style=\"text-align: right;\">\n",
       "      <th></th>\n",
       "      <th>open</th>\n",
       "      <th>high</th>\n",
       "      <th>low</th>\n",
       "      <th>close</th>\n",
       "      <th>volume</th>\n",
       "      <th>trade_count</th>\n",
       "      <th>vwap</th>\n",
       "      <th>symbol</th>\n",
       "    </tr>\n",
       "    <tr>\n",
       "      <th>timestamp</th>\n",
       "      <th></th>\n",
       "      <th></th>\n",
       "      <th></th>\n",
       "      <th></th>\n",
       "      <th></th>\n",
       "      <th></th>\n",
       "      <th></th>\n",
       "      <th></th>\n",
       "    </tr>\n",
       "  </thead>\n",
       "  <tbody>\n",
       "    <tr>\n",
       "      <th>2023-01-20 05:00:00+00:00</th>\n",
       "      <td>100.17</td>\n",
       "      <td>100.26</td>\n",
       "      <td>99.89</td>\n",
       "      <td>100.09</td>\n",
       "      <td>6095775</td>\n",
       "      <td>18911</td>\n",
       "      <td>100.069086</td>\n",
       "      <td>AGG</td>\n",
       "    </tr>\n",
       "    <tr>\n",
       "      <th>2023-01-20 05:00:00+00:00</th>\n",
       "      <td>390.10</td>\n",
       "      <td>396.04</td>\n",
       "      <td>388.38</td>\n",
       "      <td>395.88</td>\n",
       "      <td>91806356</td>\n",
       "      <td>505915</td>\n",
       "      <td>392.598891</td>\n",
       "      <td>SPY</td>\n",
       "    </tr>\n",
       "  </tbody>\n",
       "</table>\n",
       "</div>"
      ],
      "text/plain": [
       "                             open    high     low   close    volume  \\\n",
       "timestamp                                                             \n",
       "2023-01-20 05:00:00+00:00  100.17  100.26   99.89  100.09   6095775   \n",
       "2023-01-20 05:00:00+00:00  390.10  396.04  388.38  395.88  91806356   \n",
       "\n",
       "                           trade_count        vwap symbol  \n",
       "timestamp                                                  \n",
       "2023-01-20 05:00:00+00:00        18911  100.069086    AGG  \n",
       "2023-01-20 05:00:00+00:00       505915  392.598891    SPY  "
      ]
     },
     "execution_count": 9,
     "metadata": {},
     "output_type": "execute_result"
    }
   ],
   "source": [
    "# Format current date as ISO format\n",
    "today = pd.Timestamp(\"2023-01-20\", tz=\"America/New_York\").isoformat()\n",
    "end = pd.Timestamp(\"2023-01-20\", tz=\"America/New_York\").isoformat()\n",
    "# Set the tickers\n",
    "tickers = \"AGG\", \"SPY\"\n",
    "\n",
    "# Set timeframe to \"1Day\" for Alpaca API\n",
    "timeframe = \"1Day\"\n",
    "\n",
    "# Get current closing prices for SPY and AGG\n",
    "df_portfolio = alpaca.get_bars(\n",
    "    tickers,\n",
    "    timeframe,\n",
    "    start = today,\n",
    "    end = end\n",
    ").df\n",
    "df_portfolio.head()"
   ]
  },
  {
   "cell_type": "code",
   "execution_count": 10,
   "metadata": {},
   "outputs": [
    {
     "data": {
      "text/html": [
       "<div>\n",
       "<style scoped>\n",
       "    .dataframe tbody tr th:only-of-type {\n",
       "        vertical-align: middle;\n",
       "    }\n",
       "\n",
       "    .dataframe tbody tr th {\n",
       "        vertical-align: top;\n",
       "    }\n",
       "\n",
       "    .dataframe thead tr th {\n",
       "        text-align: left;\n",
       "    }\n",
       "\n",
       "    .dataframe thead tr:last-of-type th {\n",
       "        text-align: right;\n",
       "    }\n",
       "</style>\n",
       "<table border=\"1\" class=\"dataframe\">\n",
       "  <thead>\n",
       "    <tr>\n",
       "      <th></th>\n",
       "      <th colspan=\"7\" halign=\"left\">AGG</th>\n",
       "      <th colspan=\"7\" halign=\"left\">SPY</th>\n",
       "    </tr>\n",
       "    <tr>\n",
       "      <th></th>\n",
       "      <th>open</th>\n",
       "      <th>high</th>\n",
       "      <th>low</th>\n",
       "      <th>close</th>\n",
       "      <th>volume</th>\n",
       "      <th>trade_count</th>\n",
       "      <th>vwap</th>\n",
       "      <th>open</th>\n",
       "      <th>high</th>\n",
       "      <th>low</th>\n",
       "      <th>close</th>\n",
       "      <th>volume</th>\n",
       "      <th>trade_count</th>\n",
       "      <th>vwap</th>\n",
       "    </tr>\n",
       "    <tr>\n",
       "      <th>timestamp</th>\n",
       "      <th></th>\n",
       "      <th></th>\n",
       "      <th></th>\n",
       "      <th></th>\n",
       "      <th></th>\n",
       "      <th></th>\n",
       "      <th></th>\n",
       "      <th></th>\n",
       "      <th></th>\n",
       "      <th></th>\n",
       "      <th></th>\n",
       "      <th></th>\n",
       "      <th></th>\n",
       "      <th></th>\n",
       "    </tr>\n",
       "  </thead>\n",
       "  <tbody>\n",
       "    <tr>\n",
       "      <th>2023-01-20 05:00:00+00:00</th>\n",
       "      <td>100.17</td>\n",
       "      <td>100.26</td>\n",
       "      <td>99.89</td>\n",
       "      <td>100.09</td>\n",
       "      <td>6095775</td>\n",
       "      <td>18911</td>\n",
       "      <td>100.069086</td>\n",
       "      <td>390.1</td>\n",
       "      <td>396.04</td>\n",
       "      <td>388.38</td>\n",
       "      <td>395.88</td>\n",
       "      <td>91806356</td>\n",
       "      <td>505915</td>\n",
       "      <td>392.598891</td>\n",
       "    </tr>\n",
       "  </tbody>\n",
       "</table>\n",
       "</div>"
      ],
      "text/plain": [
       "                              AGG                                              \\\n",
       "                             open    high    low   close   volume trade_count   \n",
       "timestamp                                                                       \n",
       "2023-01-20 05:00:00+00:00  100.17  100.26  99.89  100.09  6095775       18911   \n",
       "\n",
       "                                         SPY                          \\\n",
       "                                 vwap   open    high     low   close   \n",
       "timestamp                                                              \n",
       "2023-01-20 05:00:00+00:00  100.069086  390.1  396.04  388.38  395.88   \n",
       "\n",
       "                                                             \n",
       "                             volume trade_count        vwap  \n",
       "timestamp                                                    \n",
       "2023-01-20 05:00:00+00:00  91806356      505915  392.598891  "
      ]
     },
     "execution_count": 10,
     "metadata": {},
     "output_type": "execute_result"
    }
   ],
   "source": [
    "# Reorganize the DataFrame\n",
    "# Separate ticker data\n",
    "AGG = df_portfolio[df_portfolio['symbol']=='AGG'].drop('symbol', axis=1)\n",
    "SPY = df_portfolio[df_portfolio['symbol']=='SPY'].drop('symbol', axis=1)               \n",
    "\n",
    "\n",
    "# Concatenate the ticker DataFrames\n",
    "df_portfolio = pd.concat([AGG, SPY],axis=1, keys=['AGG','SPY'])\n",
    "\n",
    "# Preview DataFrame\n",
    "df_portfolio"
   ]
  },
  {
   "cell_type": "code",
   "execution_count": 11,
   "metadata": {},
   "outputs": [],
   "source": [
    "# Pick AGG and SPY close prices\n",
    "agg_close_price = float(df_portfolio[\"AGG\"][\"close\"])\n",
    "spy_close_price = float(df_portfolio[\"SPY\"][\"close\"])"
   ]
  },
  {
   "cell_type": "code",
   "execution_count": 12,
   "metadata": {},
   "outputs": [
    {
     "name": "stdout",
     "output_type": "stream",
     "text": [
      "The current value of your 50 SPY shares is $395.88\n",
      "The current value of your 200 AGG shares is $100.09\n"
     ]
    }
   ],
   "source": [
    "# Compute the current value of shares\n",
    "my_agg_value = float(df_portfolio[\"AGG\"][\"close\"])\n",
    "my_spy_value = float(df_portfolio[\"SPY\"][\"close\"])\n",
    "# Print current value of shares\n",
    "print(f\"The current value of your {my_spy} SPY shares is ${my_spy_value:0.2f}\")\n",
    "print(f\"The current value of your {my_agg} AGG shares is ${my_agg_value:0.2f}\")"
   ]
  },
  {
   "cell_type": "markdown",
   "metadata": {},
   "source": [
    "### Savings Health Analysis"
   ]
  },
  {
   "cell_type": "code",
   "execution_count": 13,
   "metadata": {},
   "outputs": [
    {
     "data": {
      "text/html": [
       "<div>\n",
       "<style scoped>\n",
       "    .dataframe tbody tr th:only-of-type {\n",
       "        vertical-align: middle;\n",
       "    }\n",
       "\n",
       "    .dataframe tbody tr th {\n",
       "        vertical-align: top;\n",
       "    }\n",
       "\n",
       "    .dataframe thead th {\n",
       "        text-align: right;\n",
       "    }\n",
       "</style>\n",
       "<table border=\"1\" class=\"dataframe\">\n",
       "  <thead>\n",
       "    <tr style=\"text-align: right;\">\n",
       "      <th></th>\n",
       "      <th>amount</th>\n",
       "    </tr>\n",
       "    <tr>\n",
       "      <th>asset</th>\n",
       "      <th></th>\n",
       "    </tr>\n",
       "  </thead>\n",
       "  <tbody>\n",
       "    <tr>\n",
       "      <th>crypto</th>\n",
       "      <td>33287.95041</td>\n",
       "    </tr>\n",
       "    <tr>\n",
       "      <th>shares</th>\n",
       "      <td>495.97000</td>\n",
       "    </tr>\n",
       "  </tbody>\n",
       "</table>\n",
       "</div>"
      ],
      "text/plain": [
       "             amount\n",
       "asset              \n",
       "crypto  33287.95041\n",
       "shares    495.97000"
      ]
     },
     "metadata": {},
     "output_type": "display_data"
    }
   ],
   "source": [
    "# Set monthly household income\n",
    "monthly_income = 12000\n",
    "\n",
    "# Consolidate financial assets data\n",
    "crypto_assets = my_btc_value + my_eth_value\n",
    "total_shares_values = agg_close_price +spy_close_price\n",
    "data_value = {\n",
    "    'amount': [crypto_assets, total_shares_values],\n",
    "    'asset': [\"crypto\", \"shares\"]\n",
    "}\n",
    "# Create savings DataFrame\n",
    "df_savings = pd.DataFrame(data_value).set_index('asset')\n",
    "\n",
    "# Display savings DataFrame\n",
    "display(df_savings)"
   ]
  },
  {
   "cell_type": "code",
   "execution_count": 14,
   "metadata": {},
   "outputs": [
    {
     "data": {
      "image/png": "[encoded data removed]",
      "text/plain": [
       "<Figure size 500x500 with 1 Axes>"
      ]
     },
     "metadata": {},
     "output_type": "display_data"
    }
   ],
   "source": [
    "# Plot savings pie chart\n",
    "pie_plot = df_savings.plot.pie (y= 'amount', title=\"Savings Portfolio Composition\", figsize=(5,5))"
   ]
  },
  {
   "cell_type": "code",
   "execution_count": 15,
   "metadata": {},
   "outputs": [
    {
     "name": "stdout",
     "output_type": "stream",
     "text": [
      "You're $2216.08 away from achieving your financial goal. Keep saving!\n"
     ]
    }
   ],
   "source": [
    "# Set ideal emergency fund\n",
    "emergency_fund = monthly_income * 3\n",
    "\n",
    "# Calculate total amount of savings\n",
    "savings = df_savings['amount'].sum()\n",
    "\n",
    "# Validate saving health\n",
    "if savings > emergency_fund:\n",
    "    print(f\"Congratulations! You have enough money in your emergency fund.\")\n",
    "elif savings == emergency_fund:\n",
    "    print(f\"You have reached your financial goal!\")\n",
    "else:\n",
    "    print(f\"You're ${emergency_fund - savings:0.2f} away from achieving your financial goal. Keep saving!\")"
   ]
  },
  {
   "cell_type": "markdown",
   "metadata": {},
   "source": [
    "## Part 2 - Retirement Planning\n",
    "\n",
    "### Monte Carlo Simulation"
   ]
  },
  {
   "cell_type": "code",
   "execution_count": 16,
   "metadata": {},
   "outputs": [],
   "source": [
    "# Set start and end dates of five years back from today.\n",
    "# Sample results may vary from the solution based on the time frame chosen\n",
    "start_date = pd.Timestamp('2016-05-01', tz='America/New_York').isoformat()\n",
    "end_date = pd.Timestamp('2021-05-01', tz='America/New_York').isoformat()"
   ]
  },
  {
   "cell_type": "code",
   "execution_count": 17,
   "metadata": {},
   "outputs": [
    {
     "data": {
      "text/html": [
       "<div>\n",
       "<style scoped>\n",
       "    .dataframe tbody tr th:only-of-type {\n",
       "        vertical-align: middle;\n",
       "    }\n",
       "\n",
       "    .dataframe tbody tr th {\n",
       "        vertical-align: top;\n",
       "    }\n",
       "\n",
       "    .dataframe thead th {\n",
       "        text-align: right;\n",
       "    }\n",
       "</style>\n",
       "<table border=\"1\" class=\"dataframe\">\n",
       "  <thead>\n",
       "    <tr style=\"text-align: right;\">\n",
       "      <th></th>\n",
       "      <th>open</th>\n",
       "      <th>high</th>\n",
       "      <th>low</th>\n",
       "      <th>close</th>\n",
       "      <th>volume</th>\n",
       "      <th>trade_count</th>\n",
       "      <th>vwap</th>\n",
       "      <th>symbol</th>\n",
       "    </tr>\n",
       "    <tr>\n",
       "      <th>timestamp</th>\n",
       "      <th></th>\n",
       "      <th></th>\n",
       "      <th></th>\n",
       "      <th></th>\n",
       "      <th></th>\n",
       "      <th></th>\n",
       "      <th></th>\n",
       "      <th></th>\n",
       "    </tr>\n",
       "  </thead>\n",
       "  <tbody>\n",
       "    <tr>\n",
       "      <th>2018-01-22 05:00:00+00:00</th>\n",
       "      <td>108.22</td>\n",
       "      <td>108.2999</td>\n",
       "      <td>108.11</td>\n",
       "      <td>108.14</td>\n",
       "      <td>3983314</td>\n",
       "      <td>14537</td>\n",
       "      <td>108.172245</td>\n",
       "      <td>AGG</td>\n",
       "    </tr>\n",
       "    <tr>\n",
       "      <th>2018-01-23 05:00:00+00:00</th>\n",
       "      <td>108.33</td>\n",
       "      <td>108.4401</td>\n",
       "      <td>108.29</td>\n",
       "      <td>108.40</td>\n",
       "      <td>4775740</td>\n",
       "      <td>12353</td>\n",
       "      <td>108.372149</td>\n",
       "      <td>AGG</td>\n",
       "    </tr>\n",
       "    <tr>\n",
       "      <th>2018-01-24 05:00:00+00:00</th>\n",
       "      <td>108.25</td>\n",
       "      <td>108.3200</td>\n",
       "      <td>108.15</td>\n",
       "      <td>108.29</td>\n",
       "      <td>2362470</td>\n",
       "      <td>10803</td>\n",
       "      <td>108.259722</td>\n",
       "      <td>AGG</td>\n",
       "    </tr>\n",
       "    <tr>\n",
       "      <th>2018-01-25 05:00:00+00:00</th>\n",
       "      <td>108.26</td>\n",
       "      <td>108.5700</td>\n",
       "      <td>108.19</td>\n",
       "      <td>108.57</td>\n",
       "      <td>9858098</td>\n",
       "      <td>19793</td>\n",
       "      <td>108.434750</td>\n",
       "      <td>AGG</td>\n",
       "    </tr>\n",
       "    <tr>\n",
       "      <th>2018-01-26 05:00:00+00:00</th>\n",
       "      <td>108.51</td>\n",
       "      <td>108.5100</td>\n",
       "      <td>108.27</td>\n",
       "      <td>108.37</td>\n",
       "      <td>3808163</td>\n",
       "      <td>13216</td>\n",
       "      <td>108.364405</td>\n",
       "      <td>AGG</td>\n",
       "    </tr>\n",
       "  </tbody>\n",
       "</table>\n",
       "</div>"
      ],
      "text/plain": [
       "                             open      high     low   close   volume  \\\n",
       "timestamp                                                              \n",
       "2018-01-22 05:00:00+00:00  108.22  108.2999  108.11  108.14  3983314   \n",
       "2018-01-23 05:00:00+00:00  108.33  108.4401  108.29  108.40  4775740   \n",
       "2018-01-24 05:00:00+00:00  108.25  108.3200  108.15  108.29  2362470   \n",
       "2018-01-25 05:00:00+00:00  108.26  108.5700  108.19  108.57  9858098   \n",
       "2018-01-26 05:00:00+00:00  108.51  108.5100  108.27  108.37  3808163   \n",
       "\n",
       "                           trade_count        vwap symbol  \n",
       "timestamp                                                  \n",
       "2018-01-22 05:00:00+00:00        14537  108.172245    AGG  \n",
       "2018-01-23 05:00:00+00:00        12353  108.372149    AGG  \n",
       "2018-01-24 05:00:00+00:00        10803  108.259722    AGG  \n",
       "2018-01-25 05:00:00+00:00        19793  108.434750    AGG  \n",
       "2018-01-26 05:00:00+00:00        13216  108.364405    AGG  "
      ]
     },
     "execution_count": 17,
     "metadata": {},
     "output_type": "execute_result"
    }
   ],
   "source": [
    "# Get 5 years' worth of historical data for SPY and AGG\n",
    "ticker = [\"SPY\", \"AGG\"]\n",
    "timeframe = \"1Day\"\n",
    "start_date = pd.Timestamp(\"2018-01-20\", tz=\"America/New_York\").isoformat()\n",
    "end_date = pd.Timestamp(\"2023-01-20\", tz=\"America/New_York\").isoformat()\n",
    "df_stock_data = alpaca.get_bars(\n",
    "    ticker,\n",
    "    timeframe, \n",
    "    start=start_date,\n",
    "    end=end_date\n",
    ").df\n",
    "\n",
    "# Reorganize the DataFrame\n",
    "# Separate ticker data\n",
    "SPY = df_stock_data[df_stock_data['symbol']=='SPY'].drop('symbol',axis =1)\n",
    "AGG = df_stock_data[df_stock_data['symbol']=='AGG'].drop('symbol',axis=1)\n",
    "\n",
    "\n",
    "# Concatenate the ticker DataFrames\n",
    "df_ticker = pd.concat([AGG, SPY],axis=1, keys=['AGG','SPY'])\n",
    "\n",
    "# Display sample data\n",
    "df_stock_data.head()"
   ]
  },
  {
   "cell_type": "code",
   "execution_count": 18,
   "metadata": {},
   "outputs": [],
   "source": [
    "# Configuring a Monte Carlo simulation to forecast 30 years cumulative returns\n",
    "MC_fiveyear = MCSimulation(\n",
    "    portfolio_data = df_ticker,\n",
    "    weights = [.60,.40],\n",
    "    num_simulation = 500,\n",
    "    num_trading_days = 252*5\n",
    ")"
   ]
  },
  {
   "cell_type": "code",
   "execution_count": 19,
   "metadata": {},
   "outputs": [
    {
     "data": {
      "text/html": [
       "<div>\n",
       "<style scoped>\n",
       "    .dataframe tbody tr th:only-of-type {\n",
       "        vertical-align: middle;\n",
       "    }\n",
       "\n",
       "    .dataframe tbody tr th {\n",
       "        vertical-align: top;\n",
       "    }\n",
       "\n",
       "    .dataframe thead tr th {\n",
       "        text-align: left;\n",
       "    }\n",
       "\n",
       "    .dataframe thead tr:last-of-type th {\n",
       "        text-align: right;\n",
       "    }\n",
       "</style>\n",
       "<table border=\"1\" class=\"dataframe\">\n",
       "  <thead>\n",
       "    <tr>\n",
       "      <th></th>\n",
       "      <th colspan=\"8\" halign=\"left\">AGG</th>\n",
       "      <th colspan=\"8\" halign=\"left\">SPY</th>\n",
       "    </tr>\n",
       "    <tr>\n",
       "      <th></th>\n",
       "      <th>open</th>\n",
       "      <th>high</th>\n",
       "      <th>low</th>\n",
       "      <th>close</th>\n",
       "      <th>volume</th>\n",
       "      <th>trade_count</th>\n",
       "      <th>vwap</th>\n",
       "      <th>daily_return</th>\n",
       "      <th>open</th>\n",
       "      <th>high</th>\n",
       "      <th>low</th>\n",
       "      <th>close</th>\n",
       "      <th>volume</th>\n",
       "      <th>trade_count</th>\n",
       "      <th>vwap</th>\n",
       "      <th>daily_return</th>\n",
       "    </tr>\n",
       "    <tr>\n",
       "      <th>timestamp</th>\n",
       "      <th></th>\n",
       "      <th></th>\n",
       "      <th></th>\n",
       "      <th></th>\n",
       "      <th></th>\n",
       "      <th></th>\n",
       "      <th></th>\n",
       "      <th></th>\n",
       "      <th></th>\n",
       "      <th></th>\n",
       "      <th></th>\n",
       "      <th></th>\n",
       "      <th></th>\n",
       "      <th></th>\n",
       "      <th></th>\n",
       "      <th></th>\n",
       "    </tr>\n",
       "  </thead>\n",
       "  <tbody>\n",
       "    <tr>\n",
       "      <th>2023-01-13 05:00:00+00:00</th>\n",
       "      <td>100.02</td>\n",
       "      <td>100.260</td>\n",
       "      <td>99.8321</td>\n",
       "      <td>99.92</td>\n",
       "      <td>6470017</td>\n",
       "      <td>22835</td>\n",
       "      <td>100.045651</td>\n",
       "      <td>-0.003689</td>\n",
       "      <td>393.62</td>\n",
       "      <td>399.10</td>\n",
       "      <td>393.34</td>\n",
       "      <td>398.50</td>\n",
       "      <td>63634516</td>\n",
       "      <td>465835</td>\n",
       "      <td>396.840190</td>\n",
       "      <td>0.003879</td>\n",
       "    </tr>\n",
       "    <tr>\n",
       "      <th>2023-01-17 05:00:00+00:00</th>\n",
       "      <td>99.74</td>\n",
       "      <td>99.960</td>\n",
       "      <td>99.6500</td>\n",
       "      <td>99.74</td>\n",
       "      <td>7982214</td>\n",
       "      <td>34158</td>\n",
       "      <td>99.800510</td>\n",
       "      <td>-0.001801</td>\n",
       "      <td>398.48</td>\n",
       "      <td>400.23</td>\n",
       "      <td>397.06</td>\n",
       "      <td>397.77</td>\n",
       "      <td>62485876</td>\n",
       "      <td>436151</td>\n",
       "      <td>398.195099</td>\n",
       "      <td>-0.001832</td>\n",
       "    </tr>\n",
       "    <tr>\n",
       "      <th>2023-01-18 05:00:00+00:00</th>\n",
       "      <td>100.76</td>\n",
       "      <td>100.875</td>\n",
       "      <td>100.3700</td>\n",
       "      <td>100.73</td>\n",
       "      <td>7779527</td>\n",
       "      <td>26696</td>\n",
       "      <td>100.664398</td>\n",
       "      <td>0.009926</td>\n",
       "      <td>399.01</td>\n",
       "      <td>400.12</td>\n",
       "      <td>391.28</td>\n",
       "      <td>391.49</td>\n",
       "      <td>99651010</td>\n",
       "      <td>643581</td>\n",
       "      <td>394.553482</td>\n",
       "      <td>-0.015788</td>\n",
       "    </tr>\n",
       "    <tr>\n",
       "      <th>2023-01-19 05:00:00+00:00</th>\n",
       "      <td>100.73</td>\n",
       "      <td>100.730</td>\n",
       "      <td>100.3300</td>\n",
       "      <td>100.50</td>\n",
       "      <td>8633859</td>\n",
       "      <td>23638</td>\n",
       "      <td>100.504973</td>\n",
       "      <td>-0.002283</td>\n",
       "      <td>389.36</td>\n",
       "      <td>391.08</td>\n",
       "      <td>387.26</td>\n",
       "      <td>388.64</td>\n",
       "      <td>87066127</td>\n",
       "      <td>549053</td>\n",
       "      <td>389.264685</td>\n",
       "      <td>-0.007280</td>\n",
       "    </tr>\n",
       "    <tr>\n",
       "      <th>2023-01-20 05:00:00+00:00</th>\n",
       "      <td>100.17</td>\n",
       "      <td>100.260</td>\n",
       "      <td>99.8900</td>\n",
       "      <td>100.09</td>\n",
       "      <td>6095775</td>\n",
       "      <td>18911</td>\n",
       "      <td>100.069086</td>\n",
       "      <td>-0.004080</td>\n",
       "      <td>390.10</td>\n",
       "      <td>396.04</td>\n",
       "      <td>388.38</td>\n",
       "      <td>395.88</td>\n",
       "      <td>91806356</td>\n",
       "      <td>505915</td>\n",
       "      <td>392.598891</td>\n",
       "      <td>0.018629</td>\n",
       "    </tr>\n",
       "  </tbody>\n",
       "</table>\n",
       "</div>"
      ],
      "text/plain": [
       "                              AGG                                      \\\n",
       "                             open     high       low   close   volume   \n",
       "timestamp                                                               \n",
       "2023-01-13 05:00:00+00:00  100.02  100.260   99.8321   99.92  6470017   \n",
       "2023-01-17 05:00:00+00:00   99.74   99.960   99.6500   99.74  7982214   \n",
       "2023-01-18 05:00:00+00:00  100.76  100.875  100.3700  100.73  7779527   \n",
       "2023-01-19 05:00:00+00:00  100.73  100.730  100.3300  100.50  8633859   \n",
       "2023-01-20 05:00:00+00:00  100.17  100.260   99.8900  100.09  6095775   \n",
       "\n",
       "                                                                   SPY  \\\n",
       "                          trade_count        vwap daily_return    open   \n",
       "timestamp                                                                \n",
       "2023-01-13 05:00:00+00:00       22835  100.045651    -0.003689  393.62   \n",
       "2023-01-17 05:00:00+00:00       34158   99.800510    -0.001801  398.48   \n",
       "2023-01-18 05:00:00+00:00       26696  100.664398     0.009926  399.01   \n",
       "2023-01-19 05:00:00+00:00       23638  100.504973    -0.002283  389.36   \n",
       "2023-01-20 05:00:00+00:00       18911  100.069086    -0.004080  390.10   \n",
       "\n",
       "                                                                         \\\n",
       "                             high     low   close    volume trade_count   \n",
       "timestamp                                                                 \n",
       "2023-01-13 05:00:00+00:00  399.10  393.34  398.50  63634516      465835   \n",
       "2023-01-17 05:00:00+00:00  400.23  397.06  397.77  62485876      436151   \n",
       "2023-01-18 05:00:00+00:00  400.12  391.28  391.49  99651010      643581   \n",
       "2023-01-19 05:00:00+00:00  391.08  387.26  388.64  87066127      549053   \n",
       "2023-01-20 05:00:00+00:00  396.04  388.38  395.88  91806356      505915   \n",
       "\n",
       "                                                    \n",
       "                                 vwap daily_return  \n",
       "timestamp                                           \n",
       "2023-01-13 05:00:00+00:00  396.840190     0.003879  \n",
       "2023-01-17 05:00:00+00:00  398.195099    -0.001832  \n",
       "2023-01-18 05:00:00+00:00  394.553482    -0.015788  \n",
       "2023-01-19 05:00:00+00:00  389.264685    -0.007280  \n",
       "2023-01-20 05:00:00+00:00  392.598891     0.018629  "
      ]
     },
     "execution_count": 19,
     "metadata": {},
     "output_type": "execute_result"
    }
   ],
   "source": [
    "# Printing the simulation input data\n",
    "MC_fiveyear.portfolio_data.tail()"
   ]
  },
  {
   "cell_type": "code",
   "execution_count": 20,
   "metadata": {},
   "outputs": [
    {
     "name": "stdout",
     "output_type": "stream",
     "text": [
      "Running Monte Carlo simulation number 0.\n",
      "Running Monte Carlo simulation number 10.\n",
      "Running Monte Carlo simulation number 20.\n",
      "Running Monte Carlo simulation number 30.\n",
      "Running Monte Carlo simulation number 40.\n",
      "Running Monte Carlo simulation number 50.\n",
      "Running Monte Carlo simulation number 60.\n",
      "Running Monte Carlo simulation number 70.\n",
      "Running Monte Carlo simulation number 80.\n",
      "Running Monte Carlo simulation number 90.\n",
      "Running Monte Carlo simulation number 100.\n"
     ]
    },
    {
     "name": "stderr",
     "output_type": "stream",
     "text": [
      "c:\\Users\\Expli\\Bootcamp\\USYD-VIRT-FIN-PT-12-2022-U-LOLC-main\\05-APIs\\Homework\\Instructions\\Starter_Code\\MCForecastTools.py:117: PerformanceWarning: DataFrame is highly fragmented.  This is usually the result of calling `frame.insert` many times, which has poor performance.  Consider joining all columns at once using pd.concat(axis=1) instead.  To get a de-fragmented frame, use `newframe = frame.copy()`\n",
      "  portfolio_cumulative_returns[n] = (1 + sim_df.fillna(0)).cumprod()\n"
     ]
    },
    {
     "name": "stdout",
     "output_type": "stream",
     "text": [
      "Running Monte Carlo simulation number 110.\n",
      "Running Monte Carlo simulation number 120.\n",
      "Running Monte Carlo simulation number 130.\n",
      "Running Monte Carlo simulation number 140.\n",
      "Running Monte Carlo simulation number 150.\n",
      "Running Monte Carlo simulation number 160.\n",
      "Running Monte Carlo simulation number 170.\n",
      "Running Monte Carlo simulation number 180.\n",
      "Running Monte Carlo simulation number 190.\n",
      "Running Monte Carlo simulation number 200.\n",
      "Running Monte Carlo simulation number 210.\n",
      "Running Monte Carlo simulation number 220.\n",
      "Running Monte Carlo simulation number 230.\n",
      "Running Monte Carlo simulation number 240.\n",
      "Running Monte Carlo simulation number 250.\n",
      "Running Monte Carlo simulation number 260.\n",
      "Running Monte Carlo simulation number 270.\n",
      "Running Monte Carlo simulation number 280.\n",
      "Running Monte Carlo simulation number 290.\n",
      "Running Monte Carlo simulation number 300.\n",
      "Running Monte Carlo simulation number 310.\n",
      "Running Monte Carlo simulation number 320.\n",
      "Running Monte Carlo simulation number 330.\n",
      "Running Monte Carlo simulation number 340.\n",
      "Running Monte Carlo simulation number 350.\n",
      "Running Monte Carlo simulation number 360.\n",
      "Running Monte Carlo simulation number 370.\n",
      "Running Monte Carlo simulation number 380.\n",
      "Running Monte Carlo simulation number 390.\n",
      "Running Monte Carlo simulation number 400.\n",
      "Running Monte Carlo simulation number 410.\n",
      "Running Monte Carlo simulation number 420.\n",
      "Running Monte Carlo simulation number 430.\n",
      "Running Monte Carlo simulation number 440.\n",
      "Running Monte Carlo simulation number 450.\n",
      "Running Monte Carlo simulation number 460.\n",
      "Running Monte Carlo simulation number 470.\n",
      "Running Monte Carlo simulation number 480.\n",
      "Running Monte Carlo simulation number 490.\n"
     ]
    },
    {
     "data": {
      "text/html": [
       "<div>\n",
       "<style scoped>\n",
       "    .dataframe tbody tr th:only-of-type {\n",
       "        vertical-align: middle;\n",
       "    }\n",
       "\n",
       "    .dataframe tbody tr th {\n",
       "        vertical-align: top;\n",
       "    }\n",
       "\n",
       "    .dataframe thead th {\n",
       "        text-align: right;\n",
       "    }\n",
       "</style>\n",
       "<table border=\"1\" class=\"dataframe\">\n",
       "  <thead>\n",
       "    <tr style=\"text-align: right;\">\n",
       "      <th></th>\n",
       "      <th>0</th>\n",
       "      <th>1</th>\n",
       "      <th>2</th>\n",
       "      <th>3</th>\n",
       "      <th>4</th>\n",
       "      <th>5</th>\n",
       "      <th>6</th>\n",
       "      <th>7</th>\n",
       "      <th>8</th>\n",
       "      <th>9</th>\n",
       "      <th>...</th>\n",
       "      <th>490</th>\n",
       "      <th>491</th>\n",
       "      <th>492</th>\n",
       "      <th>493</th>\n",
       "      <th>494</th>\n",
       "      <th>495</th>\n",
       "      <th>496</th>\n",
       "      <th>497</th>\n",
       "      <th>498</th>\n",
       "      <th>499</th>\n",
       "    </tr>\n",
       "  </thead>\n",
       "  <tbody>\n",
       "    <tr>\n",
       "      <th>0</th>\n",
       "      <td>1.000000</td>\n",
       "      <td>1.000000</td>\n",
       "      <td>1.000000</td>\n",
       "      <td>1.000000</td>\n",
       "      <td>1.000000</td>\n",
       "      <td>1.000000</td>\n",
       "      <td>1.000000</td>\n",
       "      <td>1.000000</td>\n",
       "      <td>1.000000</td>\n",
       "      <td>1.000000</td>\n",
       "      <td>...</td>\n",
       "      <td>1.000000</td>\n",
       "      <td>1.000000</td>\n",
       "      <td>1.000000</td>\n",
       "      <td>1.000000</td>\n",
       "      <td>1.000000</td>\n",
       "      <td>1.000000</td>\n",
       "      <td>1.000000</td>\n",
       "      <td>1.000000</td>\n",
       "      <td>1.000000</td>\n",
       "      <td>1.000000</td>\n",
       "    </tr>\n",
       "    <tr>\n",
       "      <th>1</th>\n",
       "      <td>1.004070</td>\n",
       "      <td>0.998594</td>\n",
       "      <td>1.006952</td>\n",
       "      <td>1.001605</td>\n",
       "      <td>1.001390</td>\n",
       "      <td>1.004934</td>\n",
       "      <td>0.997409</td>\n",
       "      <td>1.004127</td>\n",
       "      <td>0.994862</td>\n",
       "      <td>1.006735</td>\n",
       "      <td>...</td>\n",
       "      <td>0.996268</td>\n",
       "      <td>1.001199</td>\n",
       "      <td>1.000939</td>\n",
       "      <td>0.997935</td>\n",
       "      <td>0.998952</td>\n",
       "      <td>0.996626</td>\n",
       "      <td>0.990578</td>\n",
       "      <td>1.010744</td>\n",
       "      <td>0.993521</td>\n",
       "      <td>1.008497</td>\n",
       "    </tr>\n",
       "    <tr>\n",
       "      <th>2</th>\n",
       "      <td>1.009782</td>\n",
       "      <td>0.998618</td>\n",
       "      <td>1.014345</td>\n",
       "      <td>1.000408</td>\n",
       "      <td>1.005011</td>\n",
       "      <td>1.002750</td>\n",
       "      <td>0.985534</td>\n",
       "      <td>1.007960</td>\n",
       "      <td>0.988238</td>\n",
       "      <td>1.007897</td>\n",
       "      <td>...</td>\n",
       "      <td>0.994380</td>\n",
       "      <td>0.996769</td>\n",
       "      <td>1.005948</td>\n",
       "      <td>0.997647</td>\n",
       "      <td>0.993576</td>\n",
       "      <td>1.007443</td>\n",
       "      <td>0.986029</td>\n",
       "      <td>1.008609</td>\n",
       "      <td>0.995404</td>\n",
       "      <td>1.007428</td>\n",
       "    </tr>\n",
       "    <tr>\n",
       "      <th>3</th>\n",
       "      <td>1.007561</td>\n",
       "      <td>0.993675</td>\n",
       "      <td>1.013154</td>\n",
       "      <td>1.001462</td>\n",
       "      <td>1.007552</td>\n",
       "      <td>1.007751</td>\n",
       "      <td>0.983879</td>\n",
       "      <td>1.013556</td>\n",
       "      <td>0.983882</td>\n",
       "      <td>0.995530</td>\n",
       "      <td>...</td>\n",
       "      <td>0.991653</td>\n",
       "      <td>0.995589</td>\n",
       "      <td>1.008696</td>\n",
       "      <td>0.988680</td>\n",
       "      <td>0.995876</td>\n",
       "      <td>1.016223</td>\n",
       "      <td>0.990463</td>\n",
       "      <td>1.001278</td>\n",
       "      <td>0.995490</td>\n",
       "      <td>1.013181</td>\n",
       "    </tr>\n",
       "    <tr>\n",
       "      <th>4</th>\n",
       "      <td>1.011180</td>\n",
       "      <td>0.999741</td>\n",
       "      <td>1.004948</td>\n",
       "      <td>0.995946</td>\n",
       "      <td>1.004221</td>\n",
       "      <td>1.007535</td>\n",
       "      <td>0.979611</td>\n",
       "      <td>1.014700</td>\n",
       "      <td>0.986212</td>\n",
       "      <td>0.997095</td>\n",
       "      <td>...</td>\n",
       "      <td>0.988199</td>\n",
       "      <td>0.992144</td>\n",
       "      <td>1.006091</td>\n",
       "      <td>1.001337</td>\n",
       "      <td>0.984428</td>\n",
       "      <td>1.017738</td>\n",
       "      <td>0.995865</td>\n",
       "      <td>1.003516</td>\n",
       "      <td>0.994653</td>\n",
       "      <td>1.012773</td>\n",
       "    </tr>\n",
       "    <tr>\n",
       "      <th>...</th>\n",
       "      <td>...</td>\n",
       "      <td>...</td>\n",
       "      <td>...</td>\n",
       "      <td>...</td>\n",
       "      <td>...</td>\n",
       "      <td>...</td>\n",
       "      <td>...</td>\n",
       "      <td>...</td>\n",
       "      <td>...</td>\n",
       "      <td>...</td>\n",
       "      <td>...</td>\n",
       "      <td>...</td>\n",
       "      <td>...</td>\n",
       "      <td>...</td>\n",
       "      <td>...</td>\n",
       "      <td>...</td>\n",
       "      <td>...</td>\n",
       "      <td>...</td>\n",
       "      <td>...</td>\n",
       "      <td>...</td>\n",
       "      <td>...</td>\n",
       "    </tr>\n",
       "    <tr>\n",
       "      <th>7556</th>\n",
       "      <td>3.283706</td>\n",
       "      <td>3.959560</td>\n",
       "      <td>2.198369</td>\n",
       "      <td>2.662850</td>\n",
       "      <td>2.628485</td>\n",
       "      <td>2.451887</td>\n",
       "      <td>1.056364</td>\n",
       "      <td>1.199696</td>\n",
       "      <td>3.338849</td>\n",
       "      <td>1.973531</td>\n",
       "      <td>...</td>\n",
       "      <td>1.179079</td>\n",
       "      <td>4.548144</td>\n",
       "      <td>3.509144</td>\n",
       "      <td>3.263409</td>\n",
       "      <td>2.375580</td>\n",
       "      <td>1.465842</td>\n",
       "      <td>3.800309</td>\n",
       "      <td>3.126552</td>\n",
       "      <td>2.828825</td>\n",
       "      <td>1.085045</td>\n",
       "    </tr>\n",
       "    <tr>\n",
       "      <th>7557</th>\n",
       "      <td>3.284040</td>\n",
       "      <td>3.973076</td>\n",
       "      <td>2.203712</td>\n",
       "      <td>2.686254</td>\n",
       "      <td>2.627459</td>\n",
       "      <td>2.437489</td>\n",
       "      <td>1.054558</td>\n",
       "      <td>1.203976</td>\n",
       "      <td>3.305047</td>\n",
       "      <td>1.985166</td>\n",
       "      <td>...</td>\n",
       "      <td>1.179329</td>\n",
       "      <td>4.582771</td>\n",
       "      <td>3.492072</td>\n",
       "      <td>3.263601</td>\n",
       "      <td>2.366220</td>\n",
       "      <td>1.477705</td>\n",
       "      <td>3.815492</td>\n",
       "      <td>3.123524</td>\n",
       "      <td>2.860375</td>\n",
       "      <td>1.085136</td>\n",
       "    </tr>\n",
       "    <tr>\n",
       "      <th>7558</th>\n",
       "      <td>3.286450</td>\n",
       "      <td>3.990308</td>\n",
       "      <td>2.221611</td>\n",
       "      <td>2.682400</td>\n",
       "      <td>2.601573</td>\n",
       "      <td>2.439824</td>\n",
       "      <td>1.052197</td>\n",
       "      <td>1.214982</td>\n",
       "      <td>3.348824</td>\n",
       "      <td>1.990555</td>\n",
       "      <td>...</td>\n",
       "      <td>1.183382</td>\n",
       "      <td>4.528818</td>\n",
       "      <td>3.473938</td>\n",
       "      <td>3.250062</td>\n",
       "      <td>2.383700</td>\n",
       "      <td>1.481981</td>\n",
       "      <td>3.801108</td>\n",
       "      <td>3.119639</td>\n",
       "      <td>2.829729</td>\n",
       "      <td>1.101546</td>\n",
       "    </tr>\n",
       "    <tr>\n",
       "      <th>7559</th>\n",
       "      <td>3.273595</td>\n",
       "      <td>4.006232</td>\n",
       "      <td>2.228962</td>\n",
       "      <td>2.697028</td>\n",
       "      <td>2.590699</td>\n",
       "      <td>2.438125</td>\n",
       "      <td>1.055001</td>\n",
       "      <td>1.210536</td>\n",
       "      <td>3.372590</td>\n",
       "      <td>1.975999</td>\n",
       "      <td>...</td>\n",
       "      <td>1.196519</td>\n",
       "      <td>4.518588</td>\n",
       "      <td>3.470918</td>\n",
       "      <td>3.249695</td>\n",
       "      <td>2.361240</td>\n",
       "      <td>1.471764</td>\n",
       "      <td>3.811134</td>\n",
       "      <td>3.134510</td>\n",
       "      <td>2.824128</td>\n",
       "      <td>1.105264</td>\n",
       "    </tr>\n",
       "    <tr>\n",
       "      <th>7560</th>\n",
       "      <td>3.264507</td>\n",
       "      <td>3.992582</td>\n",
       "      <td>2.229311</td>\n",
       "      <td>2.730358</td>\n",
       "      <td>2.606708</td>\n",
       "      <td>2.431765</td>\n",
       "      <td>1.048236</td>\n",
       "      <td>1.200923</td>\n",
       "      <td>3.387266</td>\n",
       "      <td>1.978635</td>\n",
       "      <td>...</td>\n",
       "      <td>1.192527</td>\n",
       "      <td>4.521945</td>\n",
       "      <td>3.478136</td>\n",
       "      <td>3.245379</td>\n",
       "      <td>2.367862</td>\n",
       "      <td>1.478293</td>\n",
       "      <td>3.807262</td>\n",
       "      <td>3.116383</td>\n",
       "      <td>2.821859</td>\n",
       "      <td>1.105039</td>\n",
       "    </tr>\n",
       "  </tbody>\n",
       "</table>\n",
       "<p>7561 rows × 500 columns</p>\n",
       "</div>"
      ],
      "text/plain": [
       "           0         1         2         3         4         5         6    \\\n",
       "0     1.000000  1.000000  1.000000  1.000000  1.000000  1.000000  1.000000   \n",
       "1     1.004070  0.998594  1.006952  1.001605  1.001390  1.004934  0.997409   \n",
       "2     1.009782  0.998618  1.014345  1.000408  1.005011  1.002750  0.985534   \n",
       "3     1.007561  0.993675  1.013154  1.001462  1.007552  1.007751  0.983879   \n",
       "4     1.011180  0.999741  1.004948  0.995946  1.004221  1.007535  0.979611   \n",
       "...        ...       ...       ...       ...       ...       ...       ...   \n",
       "7556  3.283706  3.959560  2.198369  2.662850  2.628485  2.451887  1.056364   \n",
       "7557  3.284040  3.973076  2.203712  2.686254  2.627459  2.437489  1.054558   \n",
       "7558  3.286450  3.990308  2.221611  2.682400  2.601573  2.439824  1.052197   \n",
       "7559  3.273595  4.006232  2.228962  2.697028  2.590699  2.438125  1.055001   \n",
       "7560  3.264507  3.992582  2.229311  2.730358  2.606708  2.431765  1.048236   \n",
       "\n",
       "           7         8         9    ...       490       491       492  \\\n",
       "0     1.000000  1.000000  1.000000  ...  1.000000  1.000000  1.000000   \n",
       "1     1.004127  0.994862  1.006735  ...  0.996268  1.001199  1.000939   \n",
       "2     1.007960  0.988238  1.007897  ...  0.994380  0.996769  1.005948   \n",
       "3     1.013556  0.983882  0.995530  ...  0.991653  0.995589  1.008696   \n",
       "4     1.014700  0.986212  0.997095  ...  0.988199  0.992144  1.006091   \n",
       "...        ...       ...       ...  ...       ...       ...       ...   \n",
       "7556  1.199696  3.338849  1.973531  ...  1.179079  4.548144  3.509144   \n",
       "7557  1.203976  3.305047  1.985166  ...  1.179329  4.582771  3.492072   \n",
       "7558  1.214982  3.348824  1.990555  ...  1.183382  4.528818  3.473938   \n",
       "7559  1.210536  3.372590  1.975999  ...  1.196519  4.518588  3.470918   \n",
       "7560  1.200923  3.387266  1.978635  ...  1.192527  4.521945  3.478136   \n",
       "\n",
       "           493       494       495       496       497       498       499  \n",
       "0     1.000000  1.000000  1.000000  1.000000  1.000000  1.000000  1.000000  \n",
       "1     0.997935  0.998952  0.996626  0.990578  1.010744  0.993521  1.008497  \n",
       "2     0.997647  0.993576  1.007443  0.986029  1.008609  0.995404  1.007428  \n",
       "3     0.988680  0.995876  1.016223  0.990463  1.001278  0.995490  1.013181  \n",
       "4     1.001337  0.984428  1.017738  0.995865  1.003516  0.994653  1.012773  \n",
       "...        ...       ...       ...       ...       ...       ...       ...  \n",
       "7556  3.263409  2.375580  1.465842  3.800309  3.126552  2.828825  1.085045  \n",
       "7557  3.263601  2.366220  1.477705  3.815492  3.123524  2.860375  1.085136  \n",
       "7558  3.250062  2.383700  1.481981  3.801108  3.119639  2.829729  1.101546  \n",
       "7559  3.249695  2.361240  1.471764  3.811134  3.134510  2.824128  1.105264  \n",
       "7560  3.245379  2.367862  1.478293  3.807262  3.116383  2.821859  1.105039  \n",
       "\n",
       "[7561 rows x 500 columns]"
      ]
     },
     "execution_count": 20,
     "metadata": {},
     "output_type": "execute_result"
    }
   ],
   "source": [
    "# Running a Monte Carlo simulation to forecast 30 years cumulative returns\n",
    "MC_thirtyyear = MCSimulation(\n",
    "    portfolio_data = df_ticker,\n",
    "    weights = [.60,.40],\n",
    "    num_simulation = 500,\n",
    "    num_trading_days = 252*30\n",
    ")\n",
    "MC_thirtyyear.calc_cumulative_return()"
   ]
  },
  {
   "cell_type": "code",
   "execution_count": 21,
   "metadata": {},
   "outputs": [
    {
     "data": {
      "image/png": "[encoded data removed]",
      "text/plain": [
       "<Figure size 640x480 with 1 Axes>"
      ]
     },
     "metadata": {},
     "output_type": "display_data"
    }
   ],
   "source": [
    "# Plot simulation outcomes\n",
    "line_plot = MC_thirtyyear.plot_simulation()"
   ]
  },
  {
   "cell_type": "code",
   "execution_count": 22,
   "metadata": {},
   "outputs": [
    {
     "data": {
      "image/png": "[encoded data removed]",
      "text/plain": [
       "<Figure size 640x480 with 1 Axes>"
      ]
     },
     "metadata": {},
     "output_type": "display_data"
    }
   ],
   "source": [
    "# Plot probability distribution and confidence intervals\n",
    "dist_plot = MC_thirtyyear.plot_distribution()"
   ]
  },
  {
   "cell_type": "markdown",
   "metadata": {},
   "source": [
    "### Retirement Analysis"
   ]
  },
  {
   "cell_type": "code",
   "execution_count": 23,
   "metadata": {},
   "outputs": [
    {
     "name": "stdout",
     "output_type": "stream",
     "text": [
      "count           500.000000\n",
      "mean              2.258057\n",
      "std               1.244067\n",
      "min               0.429925\n",
      "25%               1.420287\n",
      "50%               1.945562\n",
      "75%               2.764833\n",
      "max              10.567086\n",
      "95% CI Lower      0.753081\n",
      "95% CI Upper      5.305058\n",
      "Name: 7560, dtype: float64\n"
     ]
    }
   ],
   "source": [
    "# Fetch summary statistics from the Monte Carlo simulation results\n",
    "summary_mc = MC_thirtyyear.summarize_cumulative_return()\n",
    "\n",
    "# Print summary statistics\n",
    "print(summary_mc)"
   ]
  },
  {
   "cell_type": "markdown",
   "metadata": {},
   "source": [
    "### Calculate the expected portfolio return at the `95%` lower and upper confidence intervals based on a `$20,000` initial investment."
   ]
  },
  {
   "cell_type": "code",
   "execution_count": 24,
   "metadata": {},
   "outputs": [
    {
     "name": "stdout",
     "output_type": "stream",
     "text": [
      "There is a 95% chance that an initial investment of $20000 in the portfolio over the next 30 years will end within in the range of $15061.62 and $106101.16\n"
     ]
    }
   ],
   "source": [
    "# Set initial investment\n",
    "initial_investment = 20000\n",
    "\n",
    "# Use the lower and upper `95%` confidence intervals to calculate the range of the possible outcomes of our $20,000\n",
    "ci_upper = round(summary_mc[9]*initial_investment,2) \n",
    "ci_lower = round(summary_mc[8]*initial_investment,2)\n",
    "\n",
    "# Print results\n",
    "print(f\"There is a 95% chance that an initial investment of ${initial_investment} in the portfolio\"\n",
    "      f\" over the next 30 years will end within in the range of\"\n",
    "      f\" ${ci_lower} and ${ci_upper}\")"
   ]
  },
  {
   "cell_type": "markdown",
   "metadata": {},
   "source": [
    "### Calculate the expected portfolio return at the `95%` lower and upper confidence intervals based on a `50%` increase in the initial investment."
   ]
  },
  {
   "cell_type": "code",
   "execution_count": 25,
   "metadata": {},
   "outputs": [
    {
     "name": "stdout",
     "output_type": "stream",
     "text": [
      "There is a 95% chance that an initial investment of $30000.0 in the portfolio over the next 30 years will end within in the range of $22592.43 and $159151.74\n"
     ]
    }
   ],
   "source": [
    "# Set initial investment\n",
    "initial_investment = 20000 * 1.5\n",
    "\n",
    "# Use the lower and upper `95%` confidence intervals to calculate the range of the possible outcomes of our $30,000\n",
    "ci_upper_50 = round(summary_mc[9]*initial_investment,2) \n",
    "ci_lower_50 = round(summary_mc[8]*initial_investment,2)\n",
    "\n",
    "# Print results\n",
    "print(f\"There is a 95% chance that an initial investment of ${initial_investment} in the portfolio\"\n",
    "      f\" over the next 30 years will end within in the range of\"\n",
    "      f\" ${ci_lower_50} and ${ci_upper_50}\")"
   ]
  },
  {
   "cell_type": "markdown",
   "metadata": {},
   "source": [
    "## Optional Challenge - Early Retirement\n",
    "\n",
    "\n",
    "### Five Years Retirement Option"
   ]
  },
  {
   "cell_type": "code",
   "execution_count": 26,
   "metadata": {},
   "outputs": [],
   "source": [
    "# Configuring a Monte Carlo simulation to forecast 5 years cumulative returns\n"
   ]
  },
  {
   "cell_type": "markdown",
   "metadata": {},
   "source": [
    "#### Running a Monte Carlo simulation to forecast 5 years cumulative returns\n"
   ]
  },
  {
   "cell_type": "code",
   "execution_count": 27,
   "metadata": {},
   "outputs": [],
   "source": [
    "# Plot simulation outcomes\n",
    "# YOUR CODE HERE!"
   ]
  },
  {
   "cell_type": "code",
   "execution_count": 28,
   "metadata": {},
   "outputs": [],
   "source": [
    "# Plot probability distribution and confidence intervals\n",
    "# YOUR CODE HERE!"
   ]
  },
  {
   "cell_type": "code",
   "execution_count": 29,
   "metadata": {},
   "outputs": [],
   "source": [
    "# Fetch summary statistics from the Monte Carlo simulation results\n",
    "# YOUR CODE HERE!\n",
    "\n",
    "# Print summary statistics\n",
    "# YOUR CODE HERE!"
   ]
  },
  {
   "cell_type": "code",
   "execution_count": 30,
   "metadata": {},
   "outputs": [
    {
     "ename": "NameError",
     "evalue": "name 'ci_lower_five' is not defined",
     "output_type": "error",
     "traceback": [
      "\u001b[1;31m---------------------------------------------------------------------------\u001b[0m",
      "\u001b[1;31mNameError\u001b[0m                                 Traceback (most recent call last)",
      "\u001b[1;32m~\\AppData\\Local\\Temp\\ipykernel_7924\\2498605119.py\u001b[0m in \u001b[0;36m<module>\u001b[1;34m\u001b[0m\n\u001b[0;32m      6\u001b[0m \u001b[1;33m\u001b[0m\u001b[0m\n\u001b[0;32m      7\u001b[0m \u001b[1;31m# Print results\u001b[0m\u001b[1;33m\u001b[0m\u001b[1;33m\u001b[0m\u001b[1;33m\u001b[0m\u001b[0m\n\u001b[1;32m----> 8\u001b[1;33m print(f\"There is a 95% chance that an initial investment of ${initial_investment} in the portfolio\"\n\u001b[0m\u001b[0;32m      9\u001b[0m       \u001b[1;34mf\" over the next 5 years will end within in the range of\"\u001b[0m\u001b[1;33m\u001b[0m\u001b[1;33m\u001b[0m\u001b[0m\n\u001b[0;32m     10\u001b[0m       f\" ${ci_lower_five} and ${ci_upper_five}\")\n",
      "\u001b[1;31mNameError\u001b[0m: name 'ci_lower_five' is not defined"
     ]
    }
   ],
   "source": [
    "# Set initial investment\n",
    "# YOUR CODE HERE!\n",
    "\n",
    "# Use the lower and upper `95%` confidence intervals to calculate the range of the possible outcomes of our $60,000\n",
    "# YOUR CODE HERE!\n",
    "\n",
    "# Print results\n",
    "print(f\"There is a 95% chance that an initial investment of ${initial_investment} in the portfolio\"\n",
    "      f\" over the next 5 years will end within in the range of\"\n",
    "      f\" ${ci_lower_five} and ${ci_upper_five}\")"
   ]
  },
  {
   "cell_type": "markdown",
   "metadata": {},
   "source": [
    "### Ten Years Retirement Option"
   ]
  },
  {
   "cell_type": "code",
   "execution_count": null,
   "metadata": {},
   "outputs": [],
   "source": [
    "# Configuring a Monte Carlo simulation to forecast 10 years cumulative returns\n",
    "# YOUR CODE HERE!"
   ]
  },
  {
   "cell_type": "code",
   "execution_count": null,
   "metadata": {},
   "outputs": [],
   "source": [
    "# Running a Monte Carlo simulation to forecast 10 years cumulative returns\n",
    "# YOUR CODE HERE!"
   ]
  },
  {
   "cell_type": "code",
   "execution_count": null,
   "metadata": {},
   "outputs": [],
   "source": [
    "# Plot simulation outcomes\n",
    "# YOUR CODE HERE!"
   ]
  },
  {
   "cell_type": "code",
   "execution_count": null,
   "metadata": {},
   "outputs": [],
   "source": [
    "# Plot probability distribution and confidence intervals\n",
    "# YOUR CODE HERE!"
   ]
  },
  {
   "cell_type": "code",
   "execution_count": null,
   "metadata": {},
   "outputs": [],
   "source": [
    "# Fetch summary statistics from the Monte Carlo simulation results\n",
    "# YOUR CODE HERE!\n",
    "\n",
    "# Print summary statistics\n",
    "# YOUR CODE HERE!"
   ]
  },
  {
   "cell_type": "code",
   "execution_count": null,
   "metadata": {},
   "outputs": [],
   "source": [
    "# Set initial investment\n",
    "# YOUR CODE HERE!\n",
    "\n",
    "# Use the lower and upper `95%` confidence intervals to calculate the range of the possible outcomes of our $60,000\n",
    "# YOUR CODE HERE!\n",
    "\n",
    "# Print results\n",
    "print(f\"There is a 95% chance that an initial investment of ${initial_investment} in the portfolio\"\n",
    "      f\" over the next 10 years will end within in the range of\"\n",
    "      f\" ${ci_lower_ten} and ${ci_upper_ten}\")"
   ]
  }
 ],
 "metadata": {
  "kernelspec": {
   "display_name": "alpacaenv",
   "language": "python",
   "name": "python3"
  },
  "language_info": {
   "codemirror_mode": {
    "name": "ipython",
    "version": 3
   },
   "file_extension": ".py",
   "mimetype": "text/x-python",
   "name": "python",
   "nbconvert_exporter": "python",
   "pygments_lexer": "ipython3",
   "version": "3.7.15"
  },
  "nteract": {
   "version": "0.28.0"
  },
  "vscode": {
   "interpreter": {
    "hash": "997eb0551b13edcc05cbf630c79dc5adecc1720f03ee5e6bd39870bac4a1cdb4"
   }
  }
 },
 "nbformat": 4,
 "nbformat_minor": 4
}
